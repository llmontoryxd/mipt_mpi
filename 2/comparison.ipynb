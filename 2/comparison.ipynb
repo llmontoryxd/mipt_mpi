{
 "cells": [
  {
   "cell_type": "code",
   "execution_count": null,
   "id": "ea0b6f26",
   "metadata": {},
   "outputs": [],
   "source": [
    "filename1 = \"vtk/lgca_000\"\n",
    "filename2 = \"vtk1/lgca_000\"\n",
    "\n",
    "n = 100\n",
    "for i in range(n):\n",
    "    indx = i*10\n",
    "    if(indx<10):\n",
    "        end = \"00\" + str(indx) + \".vtk\"\n",
    "    elif(indx<100):\n",
    "        end = \"0\" + str(indx) + \".vtk\"\n",
    "    else:\n",
    "        end = str(indx) + \".vtk\"\n",
    "    file1 = open(filename1+end, \"r\")\n",
    "    file2 = open(filename2+end,\"r\")\n",
    "    for line1 in file1:\n",
    "        line2 = file2.readline()\n",
    "        if(line1 != line2):\n",
    "            print(\"file1 \" + filename1+end+\" is no equal to file2 \" + filename2 + end + \" in line1 = \" + line1 +  \" line2 = \" + line2)"
   ]
  },
  {
   "cell_type": "code",
   "execution_count": null,
   "id": "cb22ba35",
   "metadata": {},
   "outputs": [],
   "source": []
  }
 ],
 "metadata": {
  "kernelspec": {
   "display_name": "Python 3",
   "language": "python",
   "name": "python3"
  },
  "language_info": {
   "codemirror_mode": {
    "name": "ipython",
    "version": 3
   },
   "file_extension": ".py",
   "mimetype": "text/x-python",
   "name": "python",
   "nbconvert_exporter": "python",
   "pygments_lexer": "ipython3",
   "version": "3.8.8"
  }
 },
 "nbformat": 4,
 "nbformat_minor": 5
}
